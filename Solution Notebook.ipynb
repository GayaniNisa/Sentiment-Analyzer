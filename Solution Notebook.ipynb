{
 "cells": [
  {
   "cell_type": "markdown",
   "metadata": {},
   "source": [
    "Q2)\n",
    "<ol>\n",
    "    <li>Collect 100 social media comments ((Facebook / Twitter) written in Singlish or Tanglish related to Sri Lankan Politics Domain.</li>\n",
    "    <li>Annotate each comment as a “positive” or “negative”</li>\n",
    "    <li>Generate a Bi-gram language model using the annotated corpus to automatically classify a given social media comment related to Sri Lankan Politics domain as a “positive” or “negative”</li>                                           \n",
    "</ol>\n"
   ]
  },
  {
   "cell_type": "markdown",
   "metadata": {},
   "source": [
    "As the first step for sentiment analysis of social network’s comments, dataset needed to be annotated as ‘Positive’ or ‘Negative’. I had collected data from social media mainly from Facebook. Then I had manually annotated the dataset by adding a column as the label ‘Positive’ and ‘Negative’.\n",
    "\n"
   ]
  },
  {
   "cell_type": "markdown",
   "metadata": {},
   "source": [
    "### 1.0 Importing All the relevant libraries"
   ]
  },
  {
   "cell_type": "code",
   "execution_count": 1,
   "metadata": {},
   "outputs": [],
   "source": [
    "#importing relevant libraries\n",
    "\n",
    "import pandas as pd\n",
    "import spacy\n",
    "import string"
   ]
  },
  {
   "cell_type": "markdown",
   "metadata": {},
   "source": [
    "### 2.0 Read the comments dataset and writing dataset_train.csv and dataset_test.csv seperately after random sampling\n",
    "\n",
    "Then I had sampled the total dataset to train and test portions using sample() function and those csv files were written to the file system.\n",
    "\n",
    "<pre>\n",
    "\n",
    "df = pd.read_csv(\"dataset.csv\",header=None,names=['comment','label'],encoding=\"utf-8\")\n",
    "df_train=df.sample(frac=0.8,random_state=1)\n",
    "df_test = df.drop(df_train.index)\n",
    "\n",
    "df_train.to_csv(\"dataset_train.csv\")\n",
    "df_test.to_csv(\"dataset_test.csv\")\n",
    "</pre>"
   ]
  },
  {
   "attachments": {
    "image.png": {
     "image/png": "[encoded data removed]"
    }
   },
   "cell_type": "markdown",
   "metadata": {},
   "source": [
    "![image.png](attachment:image.png)"
   ]
  },
  {
   "cell_type": "markdown",
   "metadata": {},
   "source": [
    "### 3.0 Writing seperate functions to following steps\n",
    "\n",
    "<ul>\n",
    "    <li>Training Comments</li>\n",
    "    <ul>\n",
    "        <li>3.1 Sentence tokenizing</li>\n",
    "        <li>3.2 Cleaning text</li>\n",
    "        <li>3.3 Bigram tokenzing in training dataset</li>\n",
    "        <li>3.4 Finding frequencies of unigrams</li>\n",
    "        <li>3.5 Finding frequencies of bigrams</li>\n",
    "    </ul>\n",
    "    <li>Testing Comments</li>\n",
    "    <ul>\n",
    "        <li>3.6 Geting bigram list of test comments by bigram tokenizing</li>\n",
    "        <li>3.7 Calculate bigram probability of the comment from the positive documents</li>\n",
    "        <li>3.8 Calculate bigram probability of the comment from the negative documents</li>\n",
    "    </ul>    \n",
    "</ul>"
   ]
  },
  {
   "cell_type": "markdown",
   "metadata": {},
   "source": [
    "#### 3.1 Sentence tokenizing"
   ]
  },
  {
   "cell_type": "code",
   "execution_count": 2,
   "metadata": {},
   "outputs": [],
   "source": [
    "def sent_tokenize(full_comment):\n",
    "    \"\"\"\n",
    "    param: full comment as a string\n",
    "    return: list of string sentences available in the comment\n",
    "    \"\"\"\n",
    "    sent_list = []\n",
    "    nlp = spacy.load(\"en_core_web_lg\")\n",
    "    doc = nlp(full_comment)\n",
    "    for i in doc.sents:\n",
    "        sent_list.append(str(i))\n",
    "    return sent_list"
   ]
  },
  {
   "cell_type": "markdown",
   "metadata": {},
   "source": [
    "#### 3.2 Cleaning text and Add start and end tags to identify  sentence borders"
   ]
  },
  {
   "cell_type": "code",
   "execution_count": 3,
   "metadata": {},
   "outputs": [],
   "source": [
    "def clean_each_text(sents_list_by_comment):\n",
    "    \"\"\"\n",
    "    param: a list which consists available sentences for a comment. \n",
    "    return: a list which contain cleaned sentences with start and end tags.\n",
    "    \"\"\"\n",
    "    cleaned_list = []\n",
    "    for j in range(len(sents_list_by_comment)):\n",
    "        text_cleaned = \"\".join([i for i in sents_list_by_comment[j] if i not in string.punctuation])\n",
    "        cleaned_list.append(\"<s> \"+str(text_cleaned.strip().lower())+\" </s>\")\n",
    "    return cleaned_list"
   ]
  },
  {
   "cell_type": "markdown",
   "metadata": {},
   "source": [
    "#### 3.3 Bigram tokenzing each cleaned comment with the training dataset"
   ]
  },
  {
   "cell_type": "code",
   "execution_count": 4,
   "metadata": {},
   "outputs": [],
   "source": [
    "#class which includes the details of the positive comments in the training dataset\n",
    "class PositiveDetails:\n",
    "    def __init__(self,unigram,bigram,unigram_count_details,bigram_count_details):\n",
    "        self.unigram=unigram\n",
    "        self.bigram=bigram\n",
    "        self.unigram_count_details=unigram_count_details\n",
    "        self.bigram_count_details=bigram_count_details\n",
    "\n",
    "#class which includes the details of the negative comments in the training dataset\n",
    "class NegativeDetails:\n",
    "    def __init__(self, unigram, bigram,unigram_count_details,bigram_count_details):\n",
    "        self.unigram = unigram\n",
    "        self.bigram = bigram\n",
    "        self.unigram_count_details = unigram_count_details\n",
    "        self.bigram_count_details = bigram_count_details\n"
   ]
  },
  {
   "cell_type": "code",
   "execution_count": 5,
   "metadata": {},
   "outputs": [],
   "source": [
    "def bigram_tokenizing_train(list1,obj):\n",
    "    \"\"\"\n",
    "    params: list1 - list which contain each comment's cleaned sentences\n",
    "            obj - An object of type PositiveDetails or NegativeDetails\n",
    "    \"\"\"\n",
    "    \n",
    "    for i in list1:\n",
    "        unigram=[]\n",
    "        bigram=[]\n",
    "        doc = i.split(\" \")\n",
    "        for token in doc:\n",
    "            unigram.append(token)\n",
    "            #assign all the unigram tokens to the class instance\n",
    "            obj.unigram.append(token)\n",
    "\n",
    "        for i in range(len(unigram)-1):\n",
    "            first = unigram[i]\n",
    "            second = unigram[i+1]\n",
    "            #assign all the bigram tokens to the class instance\n",
    "            obj.bigram.append((first,second))"
   ]
  },
  {
   "cell_type": "markdown",
   "metadata": {},
   "source": [
    "#### 3.4 Finding frequencies of unigrams available in training dataset"
   ]
  },
  {
   "cell_type": "code",
   "execution_count": 6,
   "metadata": {},
   "outputs": [],
   "source": [
    "def unique_unigram_counter(unigram_list,obj):\n",
    "    \"\"\"\n",
    "    params: unigram_list- list contain all the unigrams\n",
    "            obj - An object of type PositiveDetails or NegativeDetails\n",
    "    \"\"\"\n",
    "    unique_list_unigram={}\n",
    "    for i in unigram_list:\n",
    "        if i in unique_list_unigram:\n",
    "            #if the unigram exists add 1 to the existing value\n",
    "            unique_list_unigram[i]+=1\n",
    "        else:\n",
    "            #if the unigram is not exist add the unigram to the dictionary and assign 1 to it.\n",
    "            unique_list_unigram[i]=1\n",
    "\n",
    "    obj.unigram_count_details=unique_list_unigram"
   ]
  },
  {
   "cell_type": "markdown",
   "metadata": {},
   "source": [
    "#### 3.5 Finding frequencies of bigrams available in training dataset"
   ]
  },
  {
   "cell_type": "code",
   "execution_count": 7,
   "metadata": {},
   "outputs": [],
   "source": [
    "def unique_bigram_counter(bigram_list, obj):\n",
    "    \"\"\"\n",
    "    params: bigram_list- list contain all the bigrams\n",
    "            obj - An object of type PositiveDetails or NegativeDetails\n",
    "    \"\"\"\n",
    "    unique_list_bigram = {}\n",
    "\n",
    "    for i in bigram_list:\n",
    "        if i in unique_list_bigram:\n",
    "            #if the bigram exists add 1 to the existing value\n",
    "            unique_list_bigram[i]+=1\n",
    "        else:\n",
    "            #if the unigram is not exist add the unigram to the dictionary and assign 1 to it.\n",
    "            unique_list_bigram[i]=1\n",
    "\n",
    "    obj.bigram_count_details=unique_list_bigram"
   ]
  },
  {
   "cell_type": "code",
   "execution_count": 8,
   "metadata": {},
   "outputs": [
    {
     "name": "stdout",
     "output_type": "stream",
     "text": [
      "positive_unigram_counter\n",
      "353\n",
      "positive_bigram_counter\n",
      "474\n",
      "negative_unigram_counter\n",
      "353\n",
      "negative_bigram_counter\n",
      "493\n"
     ]
    }
   ],
   "source": [
    "df = pd.read_csv(\"dataset_train.csv\",header=None,names=['comment','label'])\n",
    "\n",
    "positive_df = df[df['label']=='Positive']\n",
    "\n",
    "negetive_df = df[df['label']=='Negative']\n",
    "\n",
    "positive_df1=positive_df.copy()\n",
    "positive_df1['new']=positive_df['comment'].map(lambda x:sent_tokenize(x))\n",
    "\n",
    "negetive_df1=negetive_df.copy()\n",
    "negetive_df1['new']=negetive_df['comment'].map(lambda x:sent_tokenize(x))\n",
    "\n",
    "cleaned_negative_df = negetive_df1.copy()\n",
    "cleaned_negative_df['cleaned']=negetive_df1['new'].map(lambda x:clean_each_text(x))\n",
    "\n",
    "cleaned_positive_df = positive_df1.copy()\n",
    "cleaned_positive_df['cleaned']=positive_df1['new'].map(lambda x:clean_each_text(x))\n",
    "\n",
    "#create an object of type PositiveDetails\n",
    "details_obj_positive = PositiveDetails([],[],[],[])\n",
    "\n",
    "detailed_positive_df = cleaned_positive_df.copy()\n",
    "detailed_positive_df['cleaned'].map(lambda x:bigram_tokenizing_train(x,details_obj_positive))\n",
    "\n",
    "#create an object of type NegativeDetails\n",
    "details_obj_negative = NegativeDetails([],[],[],[])\n",
    "\n",
    "detailed_negative_df = cleaned_negative_df.copy()\n",
    "detailed_negative_df['cleaned'].map(lambda x:bigram_tokenizing_train(x,details_obj_negative))\n",
    "\n",
    "unique_unigram_counter(details_obj_positive.unigram,details_obj_positive)\n",
    "unique_bigram_counter(details_obj_positive.bigram,details_obj_positive)\n",
    "positive_unigram_counter = details_obj_positive.unigram_count_details\n",
    "positive_bigram_counter =details_obj_positive.bigram_count_details\n",
    "\n",
    "print(\"positive_unigram_counter\")\n",
    "print(len(positive_unigram_counter))\n",
    "print(\"positive_bigram_counter\")\n",
    "print(len(positive_bigram_counter))\n",
    "\n",
    "unique_unigram_counter(details_obj_negative.unigram,details_obj_negative)\n",
    "unique_bigram_counter(details_obj_negative.bigram,details_obj_negative)\n",
    "negative_unigram_counter = details_obj_negative.unigram_count_details\n",
    "negative_bigram_counter =details_obj_negative.bigram_count_details\n",
    "\n",
    "print(\"negative_unigram_counter\")\n",
    "print(len(negative_unigram_counter))\n",
    "print(\"negative_bigram_counter\")\n",
    "print(len(negative_bigram_counter))"
   ]
  },
  {
   "cell_type": "markdown",
   "metadata": {},
   "source": [
    "#### 3.6 Geting bigram list of test comments by bigram tokenizing"
   ]
  },
  {
   "cell_type": "code",
   "execution_count": 9,
   "metadata": {},
   "outputs": [],
   "source": [
    "def get_bigram_list_test(comment):\n",
    "    \"\"\"\n",
    "    param: test comment\n",
    "    return: list of bigrams contained in the comment\n",
    "    \"\"\"\n",
    "    sents = sent_tokenize(comment)\n",
    "    cleaned_list =clean_each_text(sents)\n",
    "    return bigram_tokenizing_test(cleaned_list)"
   ]
  },
  {
   "cell_type": "code",
   "execution_count": 10,
   "metadata": {},
   "outputs": [],
   "source": [
    "def bigram_tokenizing_test(cleaned_sent_list):\n",
    "    \"\"\"\n",
    "    params: list of cleaned sentences \n",
    "    return: all the available bigrams within the cleaned_sent_list\n",
    "    \"\"\"\n",
    "    \n",
    "    for i in cleaned_sent_list:\n",
    "        unigram=[]\n",
    "        bigram=[]\n",
    "        doc = i.split(\" \")\n",
    "        for token in doc:\n",
    "            unigram.append(token)\n",
    "\n",
    "        for i in range(len(unigram)-1):\n",
    "            first = unigram[i]\n",
    "            second = unigram[i+1]\n",
    "            bigram.append((first,second))\n",
    "    return (unigram,bigram)"
   ]
  },
  {
   "cell_type": "markdown",
   "metadata": {},
   "source": [
    "#### 3.7 Calculate bigram probability of the comment from the positive documents"
   ]
  },
  {
   "cell_type": "code",
   "execution_count": 11,
   "metadata": {},
   "outputs": [],
   "source": [
    "def calculate_probabilities_positive(list_of_bigrams,details_obj_positive):\n",
    "    probability =1;\n",
    "    for bigram_index in range(len(list_of_bigrams)):\n",
    "        if(bigram_index>0 and list_of_bigrams[bigram_index]!=('</s>', '<s>')):\n",
    "            try:\n",
    "                bigram_count = details_obj_positive.bigram_count_details[list_of_bigrams[bigram_index]]\n",
    "                unigram_last_count = details_obj_positive.unigram_count_details[list_of_bigrams[bigram_index][0]]\n",
    "            except:\n",
    "                bigram_count=0\n",
    "                unigram_last_count=0\n",
    "            probability*=(bigram_count+1)/(unigram_last_count+len(details_obj_positive.unigram_count_details))\n",
    "    return probability"
   ]
  },
  {
   "cell_type": "markdown",
   "metadata": {},
   "source": [
    "#### 3.8 Calculate bigram probability of the comment from the negative documents"
   ]
  },
  {
   "cell_type": "code",
   "execution_count": 12,
   "metadata": {},
   "outputs": [],
   "source": [
    "def calculate_probabilities_negative(list_of_bigrams,details_obj_positive):\n",
    "    probability =1;\n",
    "    for bigram_index in range(len(list_of_bigrams)):\n",
    "        if(bigram_index>0 and list_of_bigrams[bigram_index]!=('</s>', '<s>')):\n",
    "            try:\n",
    "                bigram_count = details_obj_negative.bigram_count_details[list_of_bigrams[bigram_index]]\n",
    "                unigram_last_count = details_obj_negative.unigram_count_details[list_of_bigrams[bigram_index][0]]\n",
    "            except:\n",
    "                bigram_count=0\n",
    "                unigram_last_count=0\n",
    "            probability*=(bigram_count+1)/(unigram_last_count+len(details_obj_negative.unigram_count_details))\n",
    "    return probability"
   ]
  },
  {
   "cell_type": "markdown",
   "metadata": {},
   "source": [
    "### 4.0 Evaluate the Bigram Model"
   ]
  },
  {
   "cell_type": "code",
   "execution_count": 13,
   "metadata": {},
   "outputs": [],
   "source": [
    "def find_perplexity(probability,N):\n",
    "    return (1/probability)**(1/N)"
   ]
  },
  {
   "cell_type": "code",
   "execution_count": 14,
   "metadata": {},
   "outputs": [
    {
     "name": "stdout",
     "output_type": "stream",
     "text": [
      "COMMENT : \n",
      "Ratama wanasala dan visadum hoyanawa.\n",
      "Predicted sentiment of the comment: Negative\n",
      "Perplexity of the comment: 40.36874204137038\n"
     ]
    }
   ],
   "source": [
    "comment=\"Ratama wanasala dan visadum hoyanawa.\"\n",
    "\n",
    "unigram_list,bigram_list = get_bigram_list_test(comment)\n",
    "positive_probability = calculate_probabilities_positive(bigram_list,details_obj_positive)\n",
    "negative_probability = calculate_probabilities_negative(bigram_list,details_obj_negative)\n",
    "result=''\n",
    "probability=0\n",
    "N=len(unigram_list)\n",
    "if(positive_probability<negative_probability):\n",
    "    result='Negative'\n",
    "    probability=negative_probability\n",
    "else:\n",
    "    result='Positive'\n",
    "    probability=positive_probability\n",
    "print(f\"COMMENT : \\n{comment}\")\n",
    "print(f\"Predicted sentiment of the comment: {result}\")\n",
    "print(f\"Perplexity of the comment: {find_perplexity(probability,N)}\")"
   ]
  },
  {
   "cell_type": "code",
   "execution_count": 15,
   "metadata": {},
   "outputs": [
    {
     "name": "stdout",
     "output_type": "stream",
     "text": [
      "COMMENT : \n",
      "Jaya wewa hamotama. hisa nama achara kranwa sewayata.\n",
      "Predicted sentiment of the comment: Positive\n",
      "Perplexity of the comment: 54.222747687126706\n"
     ]
    }
   ],
   "source": [
    "comment=\"Jaya wewa hamotama. hisa nama achara kranwa sewayata.\"\n",
    "\n",
    "unigram_list,bigram_list = get_bigram_list_test(comment)\n",
    "positive_probability = calculate_probabilities_positive(bigram_list,details_obj_positive)\n",
    "negative_probability = calculate_probabilities_negative(bigram_list,details_obj_negative)\n",
    "result=''\n",
    "probability=0\n",
    "N=len(unigram_list)\n",
    "if(positive_probability<negative_probability):\n",
    "    result='Negative'\n",
    "    probability=negative_probability\n",
    "else:\n",
    "    result='Positive'\n",
    "    probability=positive_probability\n",
    "print(f\"COMMENT : \\n{comment}\")\n",
    "print(f\"Predicted sentiment of the comment: {result}\")\n",
    "print(f\"Perplexity of the comment: {find_perplexity(probability,N)}\")"
   ]
  },
  {
   "cell_type": "code",
   "execution_count": 16,
   "metadata": {},
   "outputs": [],
   "source": [
    "def get_sentiment_of_comment(comment):\n",
    "  unigram_list,bigram_list = get_bigram_list_test(comment)\n",
    "  positive_probability = calculate_probabilities_positive(bigram_list,details_obj_positive)\n",
    "  negative_probability = calculate_probabilities_negative(bigram_list,details_obj_negative)\n",
    "  result=''\n",
    "  if(positive_probability<negative_probability):\n",
    "      result='negative'\n",
    "  else:\n",
    "      result='positive'\n",
    "  return result"
   ]
  },
  {
   "cell_type": "code",
   "execution_count": 17,
   "metadata": {},
   "outputs": [],
   "source": [
    "def get_perplexity(comment): \n",
    "    unigram_list, bigram_list = get_bigram_list_test(comment)\n",
    "    positive_probability = calculate_probabilities_positive(bigram_list,details_obj_positive)\n",
    "    negative_probability = calculate_probabilities_negative(bigram_list,details_obj_negative)\n",
    "    result=''\n",
    "    probability=0\n",
    "    N=len(unigram_list)\n",
    "    if(positive_probability<negative_probability):\n",
    "        result='Negative'\n",
    "        probability=negative_probability\n",
    "    else:\n",
    "        result='Positive'\n",
    "        probability=positive_probability\n",
    "    return find_perplexity(probability,N)"
   ]
  },
  {
   "cell_type": "code",
   "execution_count": 18,
   "metadata": {},
   "outputs": [],
   "source": [
    "def get_perplexity_of_the_model(training_set): \n",
    "    for i in training_set:\n",
    "        unigram_list,bigram_list = get_bigram_list_test(comment)\n",
    "        positive_probability = calculate_probabilities_positive(bigram_list,details_obj_positive)\n",
    "        negative_probability = calculate_probabilities_negative(bigram_list,details_obj_negative)\n",
    "        result=''\n",
    "        probability=0\n",
    "        N=len(unigram_list)\n",
    "        if(positive_probability<negative_probability):\n",
    "            result='Negative'\n",
    "            probability=negative_probability\n",
    "        else:\n",
    "            result='Positive'\n",
    "            probability=positive_probability\n",
    "        return find_perplexity(probability,N)"
   ]
  },
  {
   "cell_type": "code",
   "execution_count": 19,
   "metadata": {},
   "outputs": [],
   "source": [
    "df_test = pd.read_csv(\"dataset_test.csv\")\n",
    "df_test['result']=df_test['comment'].map(lambda x:get_sentiment_of_comment(x))"
   ]
  },
  {
   "cell_type": "code",
   "execution_count": 20,
   "metadata": {},
   "outputs": [
    {
     "name": "stdout",
     "output_type": "stream",
     "text": [
      "TP : 14 FP : 6 FN : 1 TN : 1\n",
      "Acccuracy of the model : 0.6818181818181818\n"
     ]
    }
   ],
   "source": [
    "TP = len(df_test[(df_test['label']=='Positive') & (df_test['result']=='positive')])\n",
    "FP = len(df_test[(df_test['label']=='Negative') & (df_test['result']=='positive')])\n",
    "FN = len(df_test[(df_test['label']=='Positive') & (df_test['result']=='negative')])\n",
    "TN = len(df_test[(df_test['label']=='Negative') & (df_test['result']=='negative')])\n",
    "\n",
    "\n",
    "print(f\"TP : {TP} FP : {FP} FN : {FN} TN : {TN}\")\n",
    "\n",
    "accuracy = (TP+TN)/(TP+FP+FN+TN) \n",
    "print(f\"Acccuracy of the model : {accuracy}\")"
   ]
  },
  {
   "cell_type": "code",
   "execution_count": 21,
   "metadata": {},
   "outputs": [],
   "source": [
    "def get_perplexity_test(comment): \n",
    "    unigram_list, bigram_list = get_bigram_list_test(comment)\n",
    "    positive_probability = calculate_probabilities_positive(bigram_list,details_obj_positive)\n",
    "    negative_probability = calculate_probabilities_negative(bigram_list,details_obj_negative)\n",
    "    result=''\n",
    "    probability=0\n",
    "    N=len(unigram_list)\n",
    "    if(positive_probability<negative_probability):\n",
    "        result='Negative'\n",
    "        probability=negative_probability\n",
    "    else:\n",
    "        result='Positive'\n",
    "        probability=positive_probability\n",
    "    return probability"
   ]
  },
  {
   "cell_type": "markdown",
   "metadata": {},
   "source": [
    "### Perplexity is the most commonly used intrinsic evaluation metric. The probability of the test set normalised by the number of words is called as ‘perplexity’. \n",
    "\n",
    "In the below perplexity evaluation, I assume each comment as a unique test dataset. Because when calculating the multiplication of all the bigram probabilities of the comments in the test dataset, it almost equals to value 0. \n",
    "\n",
    "#### <center>PP(W)=[P(w1,w2,..wn)]^(-1/N)</center>\n"
   ]
  },
  {
   "cell_type": "code",
   "execution_count": 22,
   "metadata": {},
   "outputs": [],
   "source": [
    "df_test['perplexity']=df_test['comment'].map(lambda x:get_perplexity(x))"
   ]
  },
  {
   "cell_type": "code",
   "execution_count": 23,
   "metadata": {},
   "outputs": [
    {
     "data": {
      "text/html": [
       "<div>\n",
       "<style scoped>\n",
       "    .dataframe tbody tr th:only-of-type {\n",
       "        vertical-align: middle;\n",
       "    }\n",
       "\n",
       "    .dataframe tbody tr th {\n",
       "        vertical-align: top;\n",
       "    }\n",
       "\n",
       "    .dataframe thead th {\n",
       "        text-align: right;\n",
       "    }\n",
       "</style>\n",
       "<table border=\"1\" class=\"dataframe\">\n",
       "  <thead>\n",
       "    <tr style=\"text-align: right;\">\n",
       "      <th></th>\n",
       "      <th>comment</th>\n",
       "      <th>label</th>\n",
       "      <th>result</th>\n",
       "      <th>perplexity</th>\n",
       "    </tr>\n",
       "  </thead>\n",
       "  <tbody>\n",
       "    <tr>\n",
       "      <th>0</th>\n",
       "      <td>Obathuma rata athta ththawa dannawa rata unta ...</td>\n",
       "      <td>Positive</td>\n",
       "      <td>negative</td>\n",
       "      <td>4.914088</td>\n",
       "    </tr>\n",
       "    <tr>\n",
       "      <th>1</th>\n",
       "      <td>Budu saranai Devipihitai</td>\n",
       "      <td>Positive</td>\n",
       "      <td>positive</td>\n",
       "      <td>7.067377</td>\n",
       "    </tr>\n",
       "    <tr>\n",
       "      <th>2</th>\n",
       "      <td>Mama obathumiyata 1994 Indan manapayak denne p...</td>\n",
       "      <td>Positive</td>\n",
       "      <td>positive</td>\n",
       "      <td>211.947881</td>\n",
       "    </tr>\n",
       "    <tr>\n",
       "      <th>3</th>\n",
       "      <td>Nithiya hariyata kriyathmaka karanna madam nat...</td>\n",
       "      <td>Positive</td>\n",
       "      <td>positive</td>\n",
       "      <td>169.551981</td>\n",
       "    </tr>\n",
       "    <tr>\n",
       "      <th>4</th>\n",
       "      <td>Me dewal hoden karaganayamata obata dahereya s...</td>\n",
       "      <td>Positive</td>\n",
       "      <td>positive</td>\n",
       "      <td>97.920849</td>\n",
       "    </tr>\n",
       "    <tr>\n",
       "      <th>5</th>\n",
       "      <td>Madamge kapavima godak watinawa bs</td>\n",
       "      <td>Positive</td>\n",
       "      <td>positive</td>\n",
       "      <td>7.067377</td>\n",
       "    </tr>\n",
       "    <tr>\n",
       "      <th>6</th>\n",
       "      <td>Aheta paninawa meheta paninawa.hirikithai oya ...</td>\n",
       "      <td>Negative</td>\n",
       "      <td>positive</td>\n",
       "      <td>109.199277</td>\n",
       "    </tr>\n",
       "    <tr>\n",
       "      <th>7</th>\n",
       "      <td>rate minissu corona walin merenawa palakayanta...</td>\n",
       "      <td>Negative</td>\n",
       "      <td>negative</td>\n",
       "      <td>195.420332</td>\n",
       "    </tr>\n",
       "    <tr>\n",
       "      <th>8</th>\n",
       "      <td>ledeth haragena chinata rath dunna kalakanni</td>\n",
       "      <td>Negative</td>\n",
       "      <td>positive</td>\n",
       "      <td>7.067377</td>\n",
       "    </tr>\n",
       "    <tr>\n",
       "      <th>9</th>\n",
       "      <td>Madamta hamoma garu karanewa ufariema wada kar...</td>\n",
       "      <td>Positive</td>\n",
       "      <td>positive</td>\n",
       "      <td>121.490674</td>\n",
       "    </tr>\n",
       "    <tr>\n",
       "      <th>10</th>\n",
       "      <td>Parliament eke kathawak karanna danne nathi ma...</td>\n",
       "      <td>Negative</td>\n",
       "      <td>positive</td>\n",
       "      <td>254.364832</td>\n",
       "    </tr>\n",
       "    <tr>\n",
       "      <th>11</th>\n",
       "      <td>Hora-Boru Neti Bandaranayaka Waru</td>\n",
       "      <td>Positive</td>\n",
       "      <td>positive</td>\n",
       "      <td>49.947812</td>\n",
       "    </tr>\n",
       "    <tr>\n",
       "      <th>12</th>\n",
       "      <td>Okkoma ekaibaluwama</td>\n",
       "      <td>Negative</td>\n",
       "      <td>positive</td>\n",
       "      <td>18.788294</td>\n",
       "    </tr>\n",
       "    <tr>\n",
       "      <th>13</th>\n",
       "      <td>Apoi meyaawa hambenna giyaama meyaata wada ser...</td>\n",
       "      <td>Negative</td>\n",
       "      <td>positive</td>\n",
       "      <td>196.334778</td>\n",
       "    </tr>\n",
       "    <tr>\n",
       "      <th>14</th>\n",
       "      <td>Dirgausha labewa</td>\n",
       "      <td>Positive</td>\n",
       "      <td>positive</td>\n",
       "      <td>14.306252</td>\n",
       "    </tr>\n",
       "    <tr>\n",
       "      <th>15</th>\n",
       "      <td>Sobahawadarmaya araksha kirimata multhena laba...</td>\n",
       "      <td>Positive</td>\n",
       "      <td>positive</td>\n",
       "      <td>121.490674</td>\n",
       "    </tr>\n",
       "    <tr>\n",
       "      <th>16</th>\n",
       "      <td>Ithamath honda sankalpayak mr. President....</td>\n",
       "      <td>Positive</td>\n",
       "      <td>positive</td>\n",
       "      <td>7.067377</td>\n",
       "    </tr>\n",
       "    <tr>\n",
       "      <th>17</th>\n",
       "      <td>Godak hodai sir. Jaya wewa.</td>\n",
       "      <td>Positive</td>\n",
       "      <td>positive</td>\n",
       "      <td>10.130346</td>\n",
       "    </tr>\n",
       "    <tr>\n",
       "      <th>18</th>\n",
       "      <td>Rata hoda athata yanawa, oya theerana kriyathm...</td>\n",
       "      <td>Positive</td>\n",
       "      <td>positive</td>\n",
       "      <td>109.199277</td>\n",
       "    </tr>\n",
       "    <tr>\n",
       "      <th>19</th>\n",
       "      <td>Mekedda ban mu ube boru ahala minissu dan kora...</td>\n",
       "      <td>Negative</td>\n",
       "      <td>positive</td>\n",
       "      <td>143.155938</td>\n",
       "    </tr>\n",
       "    <tr>\n",
       "      <th>20</th>\n",
       "      <td>ratema galaum karuwan oba pakshaya pamanai</td>\n",
       "      <td>Positive</td>\n",
       "      <td>positive</td>\n",
       "      <td>81.438737</td>\n",
       "    </tr>\n",
       "    <tr>\n",
       "      <th>21</th>\n",
       "      <td>Oba dedenama api garu karana nayakain. Jayawew...</td>\n",
       "      <td>Positive</td>\n",
       "      <td>positive</td>\n",
       "      <td>33.780403</td>\n",
       "    </tr>\n",
       "  </tbody>\n",
       "</table>\n",
       "</div>"
      ],
      "text/plain": [
       "                                              comment     label    result  \\\n",
       "0   Obathuma rata athta ththawa dannawa rata unta ...  Positive  negative   \n",
       "1                            Budu saranai Devipihitai  Positive  positive   \n",
       "2   Mama obathumiyata 1994 Indan manapayak denne p...  Positive  positive   \n",
       "3   Nithiya hariyata kriyathmaka karanna madam nat...  Positive  positive   \n",
       "4   Me dewal hoden karaganayamata obata dahereya s...  Positive  positive   \n",
       "5                  Madamge kapavima godak watinawa bs  Positive  positive   \n",
       "6   Aheta paninawa meheta paninawa.hirikithai oya ...  Negative  positive   \n",
       "7   rate minissu corona walin merenawa palakayanta...  Negative  negative   \n",
       "8        ledeth haragena chinata rath dunna kalakanni  Negative  positive   \n",
       "9   Madamta hamoma garu karanewa ufariema wada kar...  Positive  positive   \n",
       "10  Parliament eke kathawak karanna danne nathi ma...  Negative  positive   \n",
       "11                  Hora-Boru Neti Bandaranayaka Waru  Positive  positive   \n",
       "12                                Okkoma ekaibaluwama  Negative  positive   \n",
       "13  Apoi meyaawa hambenna giyaama meyaata wada ser...  Negative  positive   \n",
       "14                                   Dirgausha labewa  Positive  positive   \n",
       "15  Sobahawadarmaya araksha kirimata multhena laba...  Positive  positive   \n",
       "16       Ithamath honda sankalpayak mr. President....  Positive  positive   \n",
       "17                        Godak hodai sir. Jaya wewa.  Positive  positive   \n",
       "18  Rata hoda athata yanawa, oya theerana kriyathm...  Positive  positive   \n",
       "19  Mekedda ban mu ube boru ahala minissu dan kora...  Negative  positive   \n",
       "20         ratema galaum karuwan oba pakshaya pamanai  Positive  positive   \n",
       "21  Oba dedenama api garu karana nayakain. Jayawew...  Positive  positive   \n",
       "\n",
       "    perplexity  \n",
       "0     4.914088  \n",
       "1     7.067377  \n",
       "2   211.947881  \n",
       "3   169.551981  \n",
       "4    97.920849  \n",
       "5     7.067377  \n",
       "6   109.199277  \n",
       "7   195.420332  \n",
       "8     7.067377  \n",
       "9   121.490674  \n",
       "10  254.364832  \n",
       "11   49.947812  \n",
       "12   18.788294  \n",
       "13  196.334778  \n",
       "14   14.306252  \n",
       "15  121.490674  \n",
       "16    7.067377  \n",
       "17   10.130346  \n",
       "18  109.199277  \n",
       "19  143.155938  \n",
       "20   81.438737  \n",
       "21   33.780403  "
      ]
     },
     "execution_count": 23,
     "metadata": {},
     "output_type": "execute_result"
    }
   ],
   "source": [
    "df_test"
   ]
  },
  {
   "cell_type": "markdown",
   "metadata": {},
   "source": [
    "<ul>\n",
    "As per the observations, \n",
    "\t<li>model gives lower perplexity values when the test comment looks like the data within the training dataset. \n",
    "        <ul>\n",
    "            <li>Ex: - “Budu saranai Devipihitai”</li>\n",
    "        </ul>\n",
    "Unigrams and the bigrams of this sentences are likely appeared in the training dataset. Therefore, the perplexity is a lower value as per the equation because the probability of the test comment is high.</li>\n",
    "    <li>model gives higher perplexity values when the test comment looks different from the data within the training dataset.\n",
    "        <ul>\n",
    "\t<li>Ex: - “rate minissu corona walin merenawa palakayanta port sity eka chaina walata denna thiyena unanduwa janathawa bera ganna eththmama ne”</li>\n",
    "        </ul>\n",
    "This is a completely new comment to the model. Therefore, the perplexity is a higher value as per the equation because the probability of the test comment is very low.</li>\n",
    "</ul>"
   ]
  }
 ],
 "metadata": {
  "kernelspec": {
   "display_name": "Python 3",
   "language": "python",
   "name": "python3"
  },
  "language_info": {
   "codemirror_mode": {
    "name": "ipython",
    "version": 3
   },
   "file_extension": ".py",
   "mimetype": "text/x-python",
   "name": "python",
   "nbconvert_exporter": "python",
   "pygments_lexer": "ipython3",
   "version": "3.8.5"
  }
 },
 "nbformat": 4,
 "nbformat_minor": 4
}
